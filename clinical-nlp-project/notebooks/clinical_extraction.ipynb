{
 "cells": [
  {
   "cell_type": "code",
   "execution_count": 1,
   "id": "d8d3965d",
   "metadata": {},
   "outputs": [
    {
     "name": "stdout",
     "output_type": "stream",
     "text": [
      "✅ Added to sys.path: c:\\Users\\hp\\Main\\medicodio\\medicodio\\clinical-nlp-project\n"
     ]
    }
   ],
   "source": [
    "import sys, os\n",
    "\n",
    "# Move one level up from notebooks → project root\n",
    "project_root = os.path.abspath(os.path.join(os.getcwd(), '..'))\n",
    "if project_root not in sys.path:\n",
    "    sys.path.append(project_root)\n",
    "\n",
    "print(\"✅ Added to sys.path:\", project_root)\n",
    "\n",
    "# Now you can safely import\n",
    "from src.rules import extract_all\n"
   ]
  },
  {
   "cell_type": "code",
   "execution_count": 2,
   "id": "398cd93b",
   "metadata": {},
   "outputs": [],
   "source": [
    "import os, json\n",
    "import pandas as pd\n",
    "from pathlib import Path\n",
    "from src.rules import extract_all"
   ]
  },
  {
   "cell_type": "code",
   "execution_count": 3,
   "id": "3bb0e730",
   "metadata": {},
   "outputs": [
    {
     "name": "stdout",
     "output_type": "stream",
     "text": [
      "Processing report1.txt ...\n",
      "Processing report2.txt ...\n",
      "Processing report3.txt ...\n",
      "Processing report4.txt ...\n"
     ]
    }
   ],
   "source": [
    "data_dir = Path(\"../data\")\n",
    "files = sorted([f for f in data_dir.glob(\"*.txt\")])\n",
    "\n",
    "all_outputs = []\n",
    "\n",
    "for i, file_path in enumerate(files, start=1):\n",
    "    print(f\"Processing {file_path.name} ...\")\n",
    "    text = open(file_path, \"r\", encoding=\"utf-8\").read()\n",
    "    report = extract_all(text, report_id=f\"Report {i}\")\n",
    "    all_outputs.append(report)"
   ]
  },
  {
   "cell_type": "code",
   "execution_count": 4,
   "id": "ad20b207",
   "metadata": {},
   "outputs": [
    {
     "name": "stdout",
     "output_type": "stream",
     "text": [
      "\n",
      "✅ Extraction complete! Output saved to ..\\outputs\\reports_extracted.json\n"
     ]
    }
   ],
   "source": [
    "output_path = Path(\"../outputs/reports_extracted.json\")\n",
    "with open(output_path, \"w\", encoding=\"utf-8\") as f:\n",
    "    json.dump(all_outputs, f, indent=2)\n",
    "\n",
    "print(f\"\\n✅ Extraction complete! Output saved to {output_path}\")"
   ]
  },
  {
   "cell_type": "code",
   "execution_count": null,
   "id": "e251236f",
   "metadata": {},
   "outputs": [],
   "source": []
  }
 ],
 "metadata": {
  "kernelspec": {
   "display_name": "clinical-nlp",
   "language": "python",
   "name": "python3"
  },
  "language_info": {
   "codemirror_mode": {
    "name": "ipython",
    "version": 3
   },
   "file_extension": ".py",
   "mimetype": "text/x-python",
   "name": "python",
   "nbconvert_exporter": "python",
   "pygments_lexer": "ipython3",
   "version": "3.10.19"
  }
 },
 "nbformat": 4,
 "nbformat_minor": 5
}
